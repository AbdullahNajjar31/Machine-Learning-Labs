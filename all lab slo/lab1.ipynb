{
 "cells": [
  {
   "cell_type": "code",
   "execution_count": 1,
   "metadata": {},
   "outputs": [
    {
     "name": "stdout",
     "output_type": "stream",
     "text": [
      "Original dataset:\n",
      "    Country   Age   Tall   Salary Purchased\n",
      "0    France  44.0  187.0  72000.0        No\n",
      "1     Spain  27.0  166.0  48000.0       Yes\n",
      "2   Germany  30.0  169.0  54000.0        No\n",
      "3        UK  57.0  171.0  73000.0       Yes\n",
      "4   Germany  40.0  176.0      NaN       Yes\n",
      "5    France  35.0    NaN  58000.0       Yes\n",
      "6     Spain   NaN  159.0  52000.0        No\n",
      "7    France  48.0  197.0  79000.0       Yes\n",
      "8   Germany  50.0  165.0  83000.0        No\n",
      "9    France  37.0  174.0  67000.0       Yes\n",
      "10    Spain  38.0    NaN  61000.0        No\n",
      "11       UK  41.0  167.0  71000.0        No\n",
      "12       UK  35.0  178.0  72000.0       Yes\n",
      "13  Germany  46.0  169.0  77000.0        No\n",
      "14    Spain  32.0  170.0      NaN       Yes\n",
      "15       UK  38.0  183.0  64000.0       Yes\n",
      "16   France  56.0  168.0  83000.0        No\n",
      "\n",
      "Preprocessed dataset:\n",
      "          0         1         2         3         4         5         6  \\\n",
      "0 -0.755929  3.162278 -0.471405 -0.755929 -1.297594 -0.698702 -1.677291   \n",
      "1 -0.755929 -0.316228  2.121320 -0.755929 -1.067375 -0.590453       NaN   \n",
      "2 -0.755929 -0.316228  2.121320 -0.755929 -0.376721 -0.590453 -0.878581   \n",
      "3  1.322876 -0.316228 -0.471405 -0.755929  0.774370  2.332289  1.175245   \n",
      "4  1.322876 -0.316228 -0.471405 -0.755929  1.695243 -0.806952  1.631651   \n",
      "\n",
      "   Purchased  \n",
      "0          2  \n",
      "1         13  \n",
      "2          4  \n",
      "3         11  \n",
      "4         12  \n"
     ]
    }
   ],
   "source": [
    "\n",
    "import pandas as pd\n",
    "import numpy as np\n",
    "from sklearn.impute import SimpleImputer\n",
    "from sklearn.preprocessing import LabelEncoder, OneHotEncoder, StandardScaler\n",
    "from sklearn.model_selection import train_test_split\n",
    "from sklearn.compose import ColumnTransformer\n",
    "\n",
    "# Step 1: Import the dataset and show the table\n",
    "data_set = pd.read_csv('DataLab1.csv')\n",
    "print(\"Original dataset:\")\n",
    "print(data_set)\n",
    "\n",
    "# Step 2: Separate the Independent and dependent variables\n",
    "x = data_set.iloc[:, :-1].values\n",
    "y = data_set.iloc[:, 3].values\n",
    "\n",
    "# Step 3: Calculate the median for each feature or column that contains a missing value and replace the result for the missing value\n",
    "imputer = SimpleImputer(missing_values=np.nan, strategy='median')\n",
    "imputer = imputer.fit(x[:, 1:3])\n",
    "x[:, 1:3] = imputer.transform(x[:, 1:3])\n",
    "\n",
    "# Step 4: Encode the categorical data\n",
    "ct = ColumnTransformer([('encoder', OneHotEncoder(), [0])], remainder='passthrough')\n",
    "x = np.array(ct.fit_transform(x), dtype=float)\n",
    "y = LabelEncoder().fit_transform(y)\n",
    "\n",
    "# Step 5: Splitting the dataset into the Training set and Test Set (assigning 30% for the test set)\n",
    "X_train, X_test, y_train, y_test = train_test_split(x, y, test_size=0.3, random_state=0)\n",
    "\n",
    "# Step 6: Apply Feature Scaling\n",
    "sc_X = StandardScaler()\n",
    "X_train = sc_X.fit_transform(X_train)\n",
    "X_test = sc_X.transform(X_test)\n",
    "\n",
    "# Display the preprocessed dataset\n",
    "preprocessed_data = pd.DataFrame(X_train)\n",
    "preprocessed_data['Purchased'] = y_train\n",
    "print(\"\\nPreprocessed dataset:\")\n",
    "print(preprocessed_data.head())\n"
   ]
  },
  {
   "cell_type": "code",
   "execution_count": null,
   "metadata": {},
   "outputs": [],
   "source": []
  }
 ],
 "metadata": {
  "kernelspec": {
   "display_name": "Python 3",
   "language": "python",
   "name": "python3"
  },
  "language_info": {
   "codemirror_mode": {
    "name": "ipython",
    "version": 3
   },
   "file_extension": ".py",
   "mimetype": "text/x-python",
   "name": "python",
   "nbconvert_exporter": "python",
   "pygments_lexer": "ipython3",
   "version": "3.11.1"
  },
  "orig_nbformat": 4
 },
 "nbformat": 4,
 "nbformat_minor": 2
}
